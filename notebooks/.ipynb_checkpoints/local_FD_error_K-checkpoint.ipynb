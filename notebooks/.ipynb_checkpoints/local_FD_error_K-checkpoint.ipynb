{
 "cells": [
  {
   "cell_type": "code",
   "execution_count": 42,
   "metadata": {},
   "outputs": [],
   "source": [
    "import numpy as np\n",
    "from matplotlib.pyplot import *\n",
    "import sympy as sym"
   ]
  },
  {
   "cell_type": "code",
   "execution_count": 55,
   "metadata": {},
   "outputs": [],
   "source": [
    "def solve_fd_prob(N, rhs_f):\n",
    "    h = 1 / (N - 1)\n",
    "    x = np.linspace(0, 1, N)\n",
    "    f = rhs_f(x)\n",
    "\n",
    "    A = np.zeros((N, N))\n",
    "    for i in range(1, N-1):\n",
    "        A[i, i] = 2/h**2\n",
    "        A[i, i-1] = A[i, i+1] = - 1 / h**2\n",
    "\n",
    "    A[0, 0] = A[-1, -1] = 1\n",
    "    f[0] = f[-1] = 0\n",
    "\n",
    "    return np.linalg.solve(A, f), x"
   ]
  },
  {
   "cell_type": "code",
   "execution_count": 56,
   "metadata": {},
   "outputs": [],
   "source": [
    "N = 20\n",
    "\n",
    "#use sympy to model func and its derivative\n",
    "X = sym.var(\"x\")\n",
    "exact = sym.sin(sym.pi*X)/(sym.pi**2)\n",
    "rhs = -exact.diff(X, 2)\n",
    "exact_f = sym.lambdify(X, exact)\n",
    "rhs_f = sym.lambdify(X, rhs)\n",
    "\n",
    "u, x = solve_fd_prob(N, rhs_f)"
   ]
  },
  {
   "cell_type": "code",
   "execution_count": 60,
   "metadata": {},
   "outputs": [
    {
     "data": {
      "image/png": "[encoded data removed]",
      "text/plain": [
       "<Figure size 432x288 with 1 Axes>"
      ]
     },
     "metadata": {
      "needs_background": "light"
     },
     "output_type": "display_data"
    }
   ],
   "source": [
    "_ = plot(x, u, \"bo-\")\n",
    "_ = plot(x, exact_f(x), \"ro\")"
   ]
  },
  {
   "cell_type": "code",
   "execution_count": 71,
   "metadata": {},
   "outputs": [
    {
     "name": "stdout",
     "output_type": "stream",
     "text": [
      "h: 0.125 error: 0.0013121849869129343\n",
      "h: 0.0625 error: 0.00032614928717147884\n",
      "h: 0.03125 error: 8.141944162257109e-05\n",
      "h: 0.015625 error: 2.034750346015246e-05\n",
      "h: 0.0078125 error: 5.086416220614898e-06\n",
      "h: 0.00390625 error: 1.2715753307246391e-06\n",
      "h: 0.001953125 error: 3.178920420510156e-07\n"
     ]
    },
    {
     "data": {
      "text/plain": [
       "array([2.00836674, 2.00208724, 2.00052153, 2.00013037, 2.00003259,\n",
       "       2.00000813])"
      ]
     },
     "execution_count": 71,
     "metadata": {},
     "output_type": "execute_result"
    }
   ],
   "source": [
    "#K error estimation using the exact analytical solution\n",
    "N = 5\n",
    "Errors = []\n",
    "Ns = []\n",
    "hs = []\n",
    "for i in range(7):\n",
    "    N = N*2-1\n",
    "    h = 1/(N-1)\n",
    "    \n",
    "    u, x = solve_fd_prob(N, rhs_f)\n",
    "    Errors.append(np.max(np.abs(u-exact_f(x))))\n",
    "    Ns.append(N)\n",
    "    hs.append(h)\n",
    "    print(f\"h: {h} error: {Errors[i]}\")\n",
    "\n",
    "logE = np.log(Errors)\n",
    "aE = np.array(logE)\n",
    "logh = np.log(hs)\n",
    "ah = np.array(logh)\n",
    "\n",
    "np.diff(aE)/np.diff(ah)"
   ]
  },
  {
   "cell_type": "code",
   "execution_count": 75,
   "metadata": {},
   "outputs": [
    {
     "name": "stdout",
     "output_type": "stream",
     "text": [
      "h: 0.125 error: 0.0013121849869129343\n",
      "h: 0.0625 error: 0.00032614928717147884\n",
      "h: 0.03125 error: 8.141944162257109e-05\n",
      "h: 0.015625 error: 2.034750346015246e-05\n",
      "h: 0.0078125 error: 5.086416220614898e-06\n",
      "h: 0.00390625 error: 1.2715753307246391e-06\n",
      "h: 0.001953125 error: 3.178920420510156e-07\n"
     ]
    },
    {
     "data": {
      "text/plain": [
       "array([2.01044983, 2.00260852, 2.00065188, 2.00016296, 2.00004074])"
      ]
     },
     "execution_count": 75,
     "metadata": {},
     "output_type": "execute_result"
    }
   ],
   "source": [
    "#K error estimation using subsequents, finer approximations\n",
    "N = 5\n",
    "diffs = []\n",
    "Ns = []\n",
    "hs = []\n",
    "u_old = None\n",
    "for i in range(7):\n",
    "    N = N*2-1\n",
    "    h = 1/(N-1)\n",
    "    \n",
    "    u, x = solve_fd_prob(N, rhs_f)\n",
    "    if u_old is not None:\n",
    "        diffs.append(np.max(np.abs(u[::2]-u_old)))\n",
    "    Ns.append(N)\n",
    "    hs.append(h)\n",
    "    print(f\"h: {h} error: {Errors[i]}\")\n",
    "    \n",
    "    u_old = u.copy()\n",
    "    \n",
    "logd = np.log(diffs)\n",
    "ad = np.array(logd)\n",
    "\n",
    "np.diff(logd)/np.log(.5)"
   ]
  }
 ],
 "metadata": {
  "kernelspec": {
   "display_name": "Python 3",
   "language": "python",
   "name": "python3"
  },
  "language_info": {
   "codemirror_mode": {
    "name": "ipython",
    "version": 3
   },
   "file_extension": ".py",
   "mimetype": "text/x-python",
   "name": "python",
   "nbconvert_exporter": "python",
   "pygments_lexer": "ipython3",
   "version": "3.7.9"
  }
 },
 "nbformat": 4,
 "nbformat_minor": 4
}
