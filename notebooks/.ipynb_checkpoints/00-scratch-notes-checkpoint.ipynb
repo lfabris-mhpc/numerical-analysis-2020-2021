{
 "cells": [
  {
   "cell_type": "markdown",
   "metadata": {
    "colab_type": "text",
    "id": "view-in-github"
   },
   "source": [
    "<a href=\"https://colab.research.google.com/github/luca-heltai/numerical-analysis-2020-2021/blob/master/notebooks/00-scratch-notes.ipynb\" target=\"_parent\"><img src=\"https://colab.research.google.com/assets/colab-badge.svg\" alt=\"Open In Colab\"/></a>"
   ]
  },
  {
   "cell_type": "code",
   "execution_count": null,
   "metadata": {
    "id": "nBRV2RxG9xeu"
   },
   "outputs": [],
   "source": [
    "%pylab inline"
   ]
  },
  {
   "cell_type": "code",
   "execution_count": null,
   "metadata": {
    "id": "Cu6G9Myw-wS_"
   },
   "outputs": [],
   "source": [
    "def FD(f, x, h):\n",
    "  return (f(x+h)-f(x))/h\n",
    "\n",
    "def CFD(f, x, h):\n",
    "  return (f(x+h)-f(x-h))/(2*h)\n",
    "\n",
    "def myfun(x):\n",
    "  return sin(x)\n",
    "\n",
    "def exact(x):\n",
    "  return cos(x)"
   ]
  },
  {
   "cell_type": "code",
   "execution_count": null,
   "metadata": {
    "id": "WE07t1j_-9RN"
   },
   "outputs": [],
   "source": [
    "x0 = 1\n",
    "\n",
    "H = [2**(-i) for i in range(1,75)]\n",
    "error  = [abs(exact(x0) -  FD(myfun, x0, h)) for h in H]\n",
    "error2 = [abs(exact(x0) - CFD(myfun, x0, h)) for h in H]"
   ]
  },
  {
   "cell_type": "code",
   "execution_count": null,
   "metadata": {
    "id": "gFGhg-e2_fYZ"
   },
   "outputs": [],
   "source": [
    "_ = loglog(H, error, 'ro-')\n",
    "_ = loglog(H, error2, 'bo-')"
   ]
  },
  {
   "cell_type": "code",
   "execution_count": null,
   "metadata": {
    "id": "LFeCDgsFW-5v"
   },
   "outputs": [],
   "source": [
    "x = linspace(.995, 1,1029)\n",
    "\n",
    "y = (x-1)**6\n",
    "\n",
    "_ = plot(x,y)"
   ]
  },
  {
   "cell_type": "code",
   "execution_count": null,
   "metadata": {
    "id": "B6HCWQ6AdB82"
   },
   "outputs": [],
   "source": [
    "import sympy as sp\n",
    "X = sp.var('x')\n",
    "Y = (1-x)**6\n",
    "sp.expand(Y)"
   ]
  },
  {
   "cell_type": "code",
   "execution_count": null,
   "metadata": {
    "id": "CE_ixVs2eC2h"
   },
   "outputs": [],
   "source": [
    "# Copy from output above.\n",
    "y = x**6 - 6*x**5 + 15*x**4 - 20*x**3 + 15*x**2 - 6*x + 1"
   ]
  },
  {
   "cell_type": "code",
   "execution_count": null,
   "metadata": {
    "id": "pPUPZZYveH2f"
   },
   "outputs": [],
   "source": [
    "x = linspace(.995, 1,1029)\n",
    "y = x**6 - 6*x**5 + 15*x**4 - 20*x**3 + 15*x**2 - 6*x + 1\n",
    "\n",
    "_ = plot(x,y)"
   ]
  },
  {
   "cell_type": "code",
   "execution_count": null,
   "metadata": {
    "id": "uBIaGmK5eIg8"
   },
   "outputs": [],
   "source": [
    "n = 15\n",
    "m = 1025\n",
    "\n",
    "# n equispaced points between 0 and 1\n",
    "x = linspace(0,1,n)\n",
    "\n",
    "# m equispaced poitns between 0 and 1\n",
    "x_plot = linspace(0,1,m)\n",
    "\n",
    "basis_on_xplot = array([x_plot**i for i in range(n)]).T\n",
    "_ = plot(x_plot, basis_on_xplot)"
   ]
  },
  {
   "cell_type": "code",
   "execution_count": null,
   "metadata": {
    "id": "Q4KKOfozP_qS"
   },
   "outputs": [],
   "source": [
    "def u(x):\n",
    "  \"\"\"Runge function\"\"\"\n",
    "  return 1.0/(1+50*(x-.5)**2)"
   ]
  },
  {
   "cell_type": "code",
   "execution_count": null,
   "metadata": {
    "id": "doOWrL6GQAaL"
   },
   "outputs": [],
   "source": [
    "# x are interpolation points\n",
    "# x_plot are plotting points\n",
    "\n",
    "# Solve linear system with Vandermond Matrix V_ij = v_j(x_i), and right hand side u_i = u(x_i)\n",
    "\n",
    "uvec = u(x)\n",
    "van = array([x**i for i in range(n)]).T\n",
    "\n",
    "from scipy import linalg"
   ]
  },
  {
   "cell_type": "code",
   "execution_count": null,
   "metadata": {
    "id": "muqRfJa7k7ZM"
   },
   "outputs": [],
   "source": [
    "p_vec = linalg.solve(van, uvec)"
   ]
  },
  {
   "cell_type": "code",
   "execution_count": null,
   "metadata": {
    "id": "vRbgS-9LlHZt"
   },
   "outputs": [],
   "source": [
    "_ = plot(x_plot, u(x_plot))\n",
    "_ = plot(x_plot, basis_on_xplot.dot(p_vec))\n",
    "_ = plot(x, uvec, 'or')"
   ]
  },
  {
   "cell_type": "code",
   "execution_count": null,
   "metadata": {
    "id": "TigEWCFalkZw"
   },
   "outputs": [],
   "source": [
    "# Study the condition number of Vandermond\n",
    "\n",
    "for n in range(1, 25):\n",
    "  x = linspace(0,1, n)\n",
    "  van = array([x**i for i in range(n)]).T\n",
    "  print(cond(van))"
   ]
  },
  {
   "cell_type": "code",
   "execution_count": null,
   "metadata": {
    "id": "jjUD-WYPoG81"
   },
   "outputs": [],
   "source": [
    "# Define the Lagrange basis functions\n",
    "n = 5\n",
    "x = linspace(0,1, n)\n",
    "\n",
    "\n",
    "van = ones((m, n))\n",
    "\n",
    "for i in range(n):\n",
    "  for j in range(n):\n",
    "    if j != i:\n",
    "      van[:,i] *= (x_plot - x[j])/(x[i]-x[j])"
   ]
  },
  {
   "cell_type": "code",
   "execution_count": null,
   "metadata": {
    "id": "PCc29wOSp8M_"
   },
   "outputs": [],
   "source": [
    "_ = plot(x_plot, van)\n",
    "_ = plot(x, 0*x, 'or')"
   ]
  },
  {
   "cell_type": "code",
   "execution_count": null,
   "metadata": {
    "id": "Qk0tvRpBqD0L"
   },
   "outputs": [],
   "source": []
  }
 ],
 "metadata": {
  "colab": {
   "collapsed_sections": [],
   "include_colab_link": true,
   "name": "scratch-notes-numerical-analysis.ipynb",
   "provenance": []
  },
  "kernelspec": {
   "display_name": "Python 3",
   "language": "python",
   "name": "python3"
  },
  "language_info": {
   "codemirror_mode": {
    "name": "ipython",
    "version": 3
   },
   "file_extension": ".py",
   "mimetype": "text/x-python",
   "name": "python",
   "nbconvert_exporter": "python",
   "pygments_lexer": "ipython3",
   "version": "3.7.9"
  }
 },
 "nbformat": 4,
 "nbformat_minor": 1
}
