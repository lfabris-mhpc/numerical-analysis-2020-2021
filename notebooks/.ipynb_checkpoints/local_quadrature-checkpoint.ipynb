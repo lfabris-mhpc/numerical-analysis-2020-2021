{
 "cells": [
  {
   "cell_type": "code",
   "execution_count": 27,
   "metadata": {},
   "outputs": [],
   "source": [
    "import numpy as np\n",
    "import matplotlib.pyplot as plt\n",
    "import sympy\n",
    "import sympy.abc\n",
    "from collections import namedtuple"
   ]
  },
  {
   "cell_type": "code",
   "execution_count": 9,
   "metadata": {},
   "outputs": [],
   "source": [
    "nint = 10\n",
    "nplot = 1025\n",
    "\n",
    "a, b = 0, 1\n",
    "\n",
    "qpts = np.linspace(a, b, nint)\n",
    "xpts = np.linspace(a, b, nplot)"
   ]
  },
  {
   "cell_type": "code",
   "execution_count": 13,
   "metadata": {},
   "outputs": [
    {
     "data": {
      "text/latex": [
       "$\\displaystyle x^{8} - 1$"
      ],
      "text/plain": [
       "x**8 - 1"
      ]
     },
     "execution_count": 13,
     "metadata": {},
     "output_type": "execute_result"
    }
   ],
   "source": [
    "x = sympy.abc.x\n",
    "p = (x**8 - 1)\n",
    "p"
   ]
  },
  {
   "cell_type": "code",
   "execution_count": 17,
   "metadata": {},
   "outputs": [
    {
     "data": {
      "text/latex": [
       "$\\displaystyle - \\frac{8}{9}$"
      ],
      "text/plain": [
       "-8/9"
      ]
     },
     "execution_count": 17,
     "metadata": {},
     "output_type": "execute_result"
    }
   ],
   "source": [
    "p.factor()\n",
    "(p**2).expand()\n",
    "p.integrate()\n",
    "sympy.integrate(p, (x, a, b))"
   ]
  },
  {
   "cell_type": "code",
   "execution_count": 26,
   "metadata": {},
   "outputs": [],
   "source": [
    "trapez_nodes = np.array([0, 1], dtype=np.float64)\n",
    "trapez_weights = np.array([1/2., 1/2.], dtype=np.float64)#dots to force float division"
   ]
  },
  {
   "cell_type": "code",
   "execution_count": 29,
   "metadata": {},
   "outputs": [],
   "source": [
    "QRule = namedtuple(\"QRule\", [\"nodes\", \"weights\", \"interval\"])"
   ]
  },
  {
   "cell_type": "code",
   "execution_count": 31,
   "metadata": {},
   "outputs": [],
   "source": [
    "trapez_rule = QRule(trapez_nodes, trapez_weights, (0, 1))"
   ]
  },
  {
   "cell_type": "code",
   "execution_count": 36,
   "metadata": {},
   "outputs": [
    {
     "name": "stdout",
     "output_type": "stream",
     "text": [
      "[0. 1.]\n",
      "[0.5 0.5]\n",
      "(0, 1)\n"
     ]
    }
   ],
   "source": [
    "trapez_rule.weights\n",
    "for i in trapez_rule:\n",
    "    print(i)"
   ]
  },
  {
   "cell_type": "code",
   "execution_count": 38,
   "metadata": {},
   "outputs": [],
   "source": [
    "def integrate(f, q_rule):\n",
    "    return np.sum(q_rule.weights * f(q_rule.nodes))"
   ]
  },
  {
   "cell_type": "code",
   "execution_count": 42,
   "metadata": {},
   "outputs": [
    {
     "data": {
      "text/plain": [
       "0.03896220172791198"
      ]
     },
     "execution_count": 42,
     "metadata": {},
     "output_type": "execute_result"
    }
   ],
   "source": [
    "-np.cos(1) + np.cos(0) - integrate(np.sin, trapez_rule)"
   ]
  },
  {
   "cell_type": "code",
   "execution_count": 47,
   "metadata": {},
   "outputs": [],
   "source": [
    "def gen_linspace(n):\n",
    "    #want to have \n",
    "    return np.linspace(0, 1, n+1)[1:-1]"
   ]
  },
  {
   "cell_type": "code",
   "execution_count": 50,
   "metadata": {},
   "outputs": [],
   "source": [
    "def gen_interp_quad_rule(nodes):\n",
    "    nnodes = nodes.shape[0]\n",
    "    if nnodes == 1:\n",
    "        weights = np.array([1.], dtype=np.float64)\n",
    "        return QRule(nodes=nodes, weights=weights, interval=(0, 1))\n",
    "    weights = np.empty((nnodes), dtype=np.float64)\n",
    "    x = sympy.abc.x\n",
    "\n",
    "    for i in range(nnodes):\n",
    "        k = 1\n",
    "        for j in range(nnodes):\n",
    "            if j == i:\n",
    "                continue\n",
    "            k *= (x-nodes[j]) / (nodes[i] - nodes[j])\n",
    "        weights[i] = sympy.integrate(k, (x, 0, 1))\n",
    "    return QRule(nodes=nodes, weights=weights, interval=(0, 1))"
   ]
  },
  {
   "cell_type": "code",
   "execution_count": 52,
   "metadata": {},
   "outputs": [
    {
     "data": {
      "text/plain": [
       "QRule(nodes=array([0., 1.]), weights=array([0.5, 0.5]), interval=(0, 1))"
      ]
     },
     "execution_count": 52,
     "metadata": {},
     "output_type": "execute_result"
    }
   ],
   "source": [
    "gen_interp_quad_rule(trapez_nodes)"
   ]
  },
  {
   "cell_type": "code",
   "execution_count": 54,
   "metadata": {},
   "outputs": [
    {
     "data": {
      "text/plain": [
       "QRule(nodes=array([0.2, 0.4, 0.6, 0.8]), weights=array([0.45833333, 0.04166667, 0.04166667, 0.45833333]), interval=(0, 1))"
      ]
     },
     "execution_count": 54,
     "metadata": {},
     "output_type": "execute_result"
    }
   ],
   "source": [
    "gen_interp_quad_rule(gen_linspace(5))"
   ]
  },
  {
   "cell_type": "code",
   "execution_count": 58,
   "metadata": {},
   "outputs": [],
   "source": [
    "from functools import lru_cache\n",
    "\n",
    "@lru_cache(100)\n",
    "def gen_nc_quad_rule(n):\n",
    "    nodes = gen_linspace(n)\n",
    "    return gen_interp_quad_rule(nodes)"
   ]
  },
  {
   "cell_type": "code",
   "execution_count": 68,
   "metadata": {},
   "outputs": [
    {
     "data": {
      "text/plain": [
       "[<matplotlib.lines.Line2D at 0x7f7c89f313d0>]"
      ]
     },
     "execution_count": 68,
     "metadata": {},
     "output_type": "execute_result"
    },
    {
     "data": {
      "image/png": "[encoded data removed]",
      "text/plain": [
       "<Figure size 432x288 with 1 Axes>"
      ]
     },
     "metadata": {
      "needs_background": "light"
     },
     "output_type": "display_data"
    }
   ],
   "source": [
    "nnodes = 14\n",
    "\n",
    "errors = []\n",
    "for i in range(1, nnodes):\n",
    "    q_rule = gen_nc_quad_rule(i)\n",
    "    q_result = integrate(np.sin, q_rule)\n",
    "    exact = np.cos(0) - np.cos(1)\n",
    "    error = np.abs(exact - q_result) /np.abs(exact)\n",
    "    errors.append(error)\n",
    "    \n",
    "plt.semilogy(range(1, nnodes), errors)"
   ]
  },
  {
   "cell_type": "code",
   "execution_count": 94,
   "metadata": {},
   "outputs": [],
   "source": [
    "def estimate_nc_error(f, nnodes, a=0, b=1):\n",
    "    f_np = sympy.lambdify(sympy.abc.x, f)\n",
    "    exact = sympy.integrate(f, (sympy.abc.x, 0, 1))\n",
    "    errors = []\n",
    "    for i in range(1, nnodes+1):\n",
    "        q_rule = gen_nc_quad_rule(i)\n",
    "        if (a, b) != (0, 1):\n",
    "            q_rule = scale_quad_rule(q_rule, a, b)\n",
    "        q_result = integrate(f_np, q_rule)\n",
    "        error = np.abs(exact - q_result) / np.abs(exact)\n",
    "        errors.append(error)\n",
    "\n",
    "    return errors"
   ]
  },
  {
   "cell_type": "code",
   "execution_count": 98,
   "metadata": {},
   "outputs": [
    {
     "data": {
      "text/plain": [
       "[1,\n",
       " (-0.520574461395797 + cos(1))/(1 - cos(1)),\n",
       " (-0.527217750067055 + cos(1))/(1 - cos(1)),\n",
       " (0.540446700016163 - cos(1))/(1 - cos(1)),\n",
       " (0.540402481068994 - cos(1))/(1 - cos(1)),\n",
       " (-0.540301807481465 + cos(1))/(1 - cos(1)),\n",
       " (-0.540301954174891 + cos(1))/(1 - cos(1)),\n",
       " (0.540302306859342 - cos(1))/(1 - cos(1)),\n",
       " (0.540302306572186 - cos(1))/(1 - cos(1)),\n",
       " (-0.540302305848085 + cos(1))/(1 - cos(1))]"
      ]
     },
     "execution_count": 98,
     "metadata": {},
     "output_type": "execute_result"
    }
   ],
   "source": [
    "#f_np = sympy.lambdify(sympy.abc.x, f)\n",
    "estimate_nc_error(sympy.sin(sympy.abc.x), 10)"
   ]
  },
  {
   "cell_type": "code",
   "execution_count": 97,
   "metadata": {},
   "outputs": [],
   "source": [
    "def scale_quad_rule(q_rule, a, b):\n",
    "    #assume qrule in 0, 1\n",
    "    ilen = b-a\n",
    "    newnodes = a + q_rule.nodes *ilen\n",
    "    newweights = q_rule.weights * ilen\n",
    "    \n",
    "    return QRule(newnodes, newweights, (a, b))"
   ]
  },
  {
   "cell_type": "code",
   "execution_count": 103,
   "metadata": {},
   "outputs": [
    {
     "data": {
      "text/plain": [
       "[<matplotlib.lines.Line2D at 0x7f7c8917bd10>]"
      ]
     },
     "execution_count": 103,
     "metadata": {},
     "output_type": "execute_result"
    },
    {
     "data": {
      "image/png": "[encoded data removed]",
      "text/plain": [
       "<Figure size 432x288 with 1 Axes>"
      ]
     },
     "metadata": {
      "needs_background": "light"
     },
     "output_type": "display_data"
    }
   ],
   "source": [
    "#f_np = sympy.lambdify(sympy.abc.x, f)\n",
    "errors = estimate_nc_error(1/(1 + sympy.abc.x**2), 10, -5, 5)\n",
    "plt.yscale=\"log\"(\n",
    "plt.plot(range(1, 11), errors))"
   ]
  },
  {
   "cell_type": "code",
   "execution_count": 110,
   "metadata": {},
   "outputs": [],
   "source": [
    "def gen_comp_rule(base_rule, ncells):\n",
    "    base_nnodes = base_rule.nodes.shape[0]\n",
    "    nnodes = base_nnodes * ncells\n",
    "    \n",
    "    newnodes = np.empty((nnodes), dtype=np.float64)\n",
    "    newweights = np.empty_like(newnodes)\n",
    "    \n",
    "    for i in range(ncells):\n",
    "        d = 1/float(ncells)\n",
    "        a = i * d\n",
    "        b = a + d\n",
    "        \n",
    "        cell_rule = scale_quad_rule(base_rule, a, b)\n",
    "        newnodes[i * base_nnodes : (i+1) * base_nnodes] = cell_rule.nodes\n",
    "        newweights[i * base_nnodes : (i+1) * base_nnodes] = cell_rule.weights\n",
    "    \n",
    "    return QRule(newnodes, newweights, (0, 1))"
   ]
  },
  {
   "cell_type": "code",
   "execution_count": 112,
   "metadata": {},
   "outputs": [
    {
     "data": {
      "text/plain": [
       "QRule(nodes=array([], dtype=float64), weights=array([], dtype=float64), interval=(0, 1))"
      ]
     },
     "execution_count": 112,
     "metadata": {},
     "output_type": "execute_result"
    }
   ],
   "source": [
    "base_rule = gen_nc_quad_rule(1)\n",
    "gen_comp_rule(base_rule, 4)"
   ]
  },
  {
   "cell_type": "code",
   "execution_count": null,
   "metadata": {},
   "outputs": [],
   "source": [
    "def estimate_cell_error(f, base_rule, ncells):\n",
    "    "
   ]
  }
 ],
 "metadata": {
  "kernelspec": {
   "display_name": "Python 3",
   "language": "python",
   "name": "python3"
  },
  "language_info": {
   "codemirror_mode": {
    "name": "ipython",
    "version": 3
   },
   "file_extension": ".py",
   "mimetype": "text/x-python",
   "name": "python",
   "nbconvert_exporter": "python",
   "pygments_lexer": "ipython3",
   "version": "3.7.9"
  }
 },
 "nbformat": 4,
 "nbformat_minor": 4
}
