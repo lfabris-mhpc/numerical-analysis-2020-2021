{
 "cells": [
  {
   "cell_type": "code",
   "execution_count": 1,
   "metadata": {},
   "outputs": [],
   "source": [
    "import numpy as np\n",
    "import matplotlib.pyplot as plt"
   ]
  },
  {
   "cell_type": "code",
   "execution_count": 2,
   "metadata": {},
   "outputs": [],
   "source": [
    "def base_lagrangian_basis(q, e):\n",
    "    nqpts = q.shape[0]\n",
    "    nepts = e.shape[0]\n",
    "    \n",
    "    basis = np.ones((nepts, nqpts), dtype=np.float64)\n",
    "    for i in range(nepts):\n",
    "        for j in range(nqpts):\n",
    "            for k in range(nqpts):\n",
    "                if k == j:\n",
    "                    continue\n",
    "                basis[i, j] *= (e[i] - q[k])/(q[j] - q[k])\n",
    "    \n",
    "    return basis\n",
    "\n",
    "def base_lagrangian_basis2d(q_x, q_y, e_x, e_y):\n",
    "    nqxpts = q_x.shape[0]\n",
    "    nqypts = q_y.shape[0]\n",
    "    nexpts = e_x.shape[0]\n",
    "    neypts = e_y.shape[0]\n",
    "    \n",
    "    #basis_shape = (nexpts, neypts, nqxpts, nqypts)\n",
    "    #basis = np.empty(basis_shape)\n",
    "    b1 = base_lagrangian_basis(q_x, e_x)\n",
    "    b2 = base_lagrangian_basis(q_y, e_y)\n",
    "    \n",
    "    \"\"\"\n",
    "    for i in range(nexpts):\n",
    "        for j in range(neypts):\n",
    "            for k in range(nqxpts):\n",
    "                for ll in range(nqypts):\n",
    "                    basis[i, j, k, ll] = b1[i, k] * b2[j, ll]\n",
    "    \"\"\"\n",
    "    \n",
    "    b1 = b1.reshape((nexpts, 1, nqxpts, 1))\n",
    "    b2 = b2.reshape((1, neypts, 1, nqypts))\n",
    "    basis = b1 * b2\n",
    "    \n",
    "    return basis\n",
    "\n",
    "def base_interpolate1d(f, q, e):\n",
    "    nqpts = q.shape[0]\n",
    "    nepts = e.shape[0]\n",
    "    \n",
    "    basis = base_lagrangian_basis(q, e)\n",
    "    \n",
    "    f_e = np.zeros((nepts), dtype=np.float64)\n",
    "    for i in range(nepts):\n",
    "        for j in range(nqpts):\n",
    "            f_e[i] += basis[i, j] * f(q[j])\n",
    "            \n",
    "    return f_e\n",
    "\n",
    "def base_interpolate2d(f, q_x, q_y, e_x, e_y):\n",
    "    nqxpts = q_x.shape[0]\n",
    "    nqypts = q_y.shape[0]\n",
    "    nexpts = e_x.shape[0]\n",
    "    neypts = e_y.shape[0]\n",
    "    \n",
    "    basis = base_lagrangian_basis2d(q_x, q_y, e_x, e_y)\n",
    "    f_e = np.zeros((nexpts, neypts), dtype=np.float64)\n",
    "    \n",
    "    f_q = f_eval2d(f, q_x, q_y)\n",
    "    \"\"\"\n",
    "    for i in range(nexpts):\n",
    "        for j in range(neypts):\n",
    "            for k in range(nqxpts):\n",
    "                for ll in range(nqypts):\n",
    "                    f_e[i, j] += basis[i, j, k, ll] *f_q[k, ll]\n",
    "    \"\"\"\n",
    "    \"\"\"\n",
    "    #get rid of implicit matrix mult\n",
    "    for k in range(nqxpts):\n",
    "        for ll in range(nqypts):\n",
    "            f_e[:, :] += basis[:, :, k, ll] * f_q[k, ll]\n",
    "    \"\"\"\n",
    "    \n",
    "    basis_reshaped = basis.reshape((nexpts*neypts, nqxpts*nqypts))\n",
    "    f_q_reshaped = f_q.reshape((nqxpts*nqypts))\n",
    "    \n",
    "    f_e = basis_reshaped @ f_q_reshaped\n",
    "    f_e = f_e.reshape((nexpts, neypts))\n",
    "    \n",
    "    return f_e\n"
   ]
  },
  {
   "cell_type": "code",
   "execution_count": 3,
   "metadata": {},
   "outputs": [],
   "source": [
    "def f1d(x):\n",
    "    return np.sin(2 * np.pi * x)\n",
    "\n",
    "def f2d(x, y):\n",
    "    return np.sin(2 * np.pi * x) + y * y\n",
    "\n",
    "def f_eval1d(f, e):\n",
    "    ret = np.empty((e.shape[0]), dtype=np.float64)\n",
    "    for (i, x) in enumerate(e):\n",
    "        ret[i] = f(x)\n",
    "    \n",
    "    return ret\n",
    "\n",
    "def f_eval2d(f, ex, ey):\n",
    "    ret = np.empty((ex.shape[0], ey.shape[0]), dtype=np.float64)\n",
    "    \n",
    "    for (i, x) in enumerate(ex):\n",
    "        for (j, y) in enumerate(ey):\n",
    "            ret[i, j] = f(x, y)\n",
    "    \n",
    "    return ret\n",
    "    #return np.array([[f(x, y) for x in] for x in ex], dtype=np.float64)\n",
    "\n",
    "#|e| * |q|: |e| evaluations of the |q| polynomials\n",
    "def lagrangian_basis(q, e):\n",
    "    #|q| * (|q|-1)\n",
    "    reduced = np.array([[qj for (j, qj) in enumerate(q) if i != j] for (i, qi) in enumerate(q)], dtype=np.float64)\n",
    "\n",
    "    #qr = q.reshape((q.shape[0], 1))\n",
    "    #denoms = np.prod(qr - reduced, axis=1)\n",
    "    #[|q| * 1->(|q|-1)] - [|q| * (|q|-1|)] -> [|q| * (|q|-1)]\n",
    "    #sum along axis 1 [|q| * (|q|-1)] -> |q|\n",
    "    denoms = np.prod(q[:, None] - reduced, axis=1)\n",
    "    \n",
    "    #er = e.reshape((e.shape[0], 1, 1))\n",
    "    #basis = np.prod(er - reduced, axis=2) / denoms\n",
    "    #[|e| * 1->|q| * 1->(|q|-1)] - [1->|e| * |q| * (|q|-1)] -> [|e| * |q| * (|q|-1)]\n",
    "    #product along axis 2 [|e| * |q| * (|q|-1)] -> [|e| * |q|]\n",
    "    #division [|e| * |q|] / [1->|e| * |q|] -> [|e| * |q|]\n",
    "    basis = np.prod(e[:, None, None] - reduced, axis=2) / denoms\n",
    "    \n",
    "    return basis\n",
    "\n",
    "def lagrangian_basisV2(q, e):\n",
    "    reduced = np.array([[qj for (j, qj) in enumerate(q) if i != j] for (i, qi) in enumerate(q)], dtype=np.float64)\n",
    "    \n",
    "    denoms = np.prod(q[:, None] - reduced, axis=1)\n",
    "    \n",
    "    basis = np.ones((e.shape[0], q.shape[0]), dtype=np.float64) / denoms\n",
    "    for i in range(basis.shape[0]):\n",
    "        basis[i, :] *= np.prod(e[i, None, None] - reduced, axis=1)\n",
    "    \n",
    "    return basis\n",
    "\n",
    "#|ex| * |ey| * |qx| * |qY|: |ex| * |ey| evaluations of the |qx| * |qY| polynomials\n",
    "def lagrangian_basis2d(qx, qy, ex, ey):\n",
    "    \"\"\"\n",
    "    qxlen = qx.shape[0]\n",
    "    qylen = qy.shape[0]\n",
    "    exlen = ex.shape[0]\n",
    "    eylen = ey.shape[0]\n",
    "    \n",
    "    #|ex| * |qx| -> |ex| * 1 * |qx| * 1 \n",
    "    bx = lagrangian_basis(qx, ex).reshape((exlen, 1, qxlen, 1))\n",
    "    #|ey| * |qy| -> 1 * |ey| * 1 * |qy|\n",
    "    by = lagrangian_basis(qy, ey).reshape((1, eylen, 1, qylen))\n",
    "    \n",
    "    #|ex| * |ey| * |qx| * |qY| because of broadcasting\n",
    "    return bx * by\n",
    "    \"\"\"\n",
    "    return lagrangian_basis(qx, ex)[:, None, :, None] * lagrangian_basis(qy, ey)[None, :, None, :]\n",
    "\n",
    "def lagrangian_basis2dV2(qx, qy, ex, ey):\n",
    "    return lagrangian_basisV2(qx, ex)[:, None, :, None] * lagrangian_basisV2(qy, ey)[None, :, None, :]\n",
    "\n",
    "def interpolate1d(f, q, e):\n",
    "    return lagrangian_basis(q, e) @ f_eval1d(f, q)\n",
    "\n",
    "def interpolate2d(f, qx, qy, ex, ey):\n",
    "    qxlen = qx.shape[0]\n",
    "    qylen = qy.shape[0]\n",
    "    exlen = ex.shape[0]\n",
    "    eylen = ey.shape[0]\n",
    "    \n",
    "    #|qx| * |qY| * |ex| * |ey|\n",
    "    basis = lagrangian_basis2d(qx, qy, ex, ey)\n",
    "    #|qx X qY| * |ex X ey|\n",
    "    basis = basis.reshape((exlen * eylen, qxlen * qylen)) \n",
    "    \n",
    "    #|qx| * |qY|\n",
    "    fq = f_eval2d(f2d, qx, qy)\n",
    "    #|qx X qY|\n",
    "    fq = fq.reshape((qxlen * qylen))\n",
    "    \n",
    "    #|ex| * |ey|\n",
    "    #fe = np.zeros((exlen, eylen), dtype=np.float64)\n",
    "    \n",
    "    #|ex X ey|\n",
    "    fe = basis @ fq\n",
    "    #|ex| * |ey|\n",
    "    fe = fe.reshape((exlen, eylen))\n",
    "    \n",
    "    return fe\n",
    "\n",
    "def interpolate2dV2(f, qx, qy, ex, ey):\n",
    "    qxlen = qx.shape[0]\n",
    "    qylen = qy.shape[0]\n",
    "    exlen = ex.shape[0]\n",
    "    eylen = ey.shape[0]\n",
    "    \n",
    "    basis = lagrangian_basis2dV2(qx, qy, ex, ey)\n",
    "    basis = basis.reshape((exlen * eylen, qxlen * qylen))\n",
    "    \n",
    "    fq = f_eval2d(f2d, qx, qy)\n",
    "    fq = fq.reshape((qxlen * qylen))\n",
    "    \n",
    "    fe = basis @ fq\n",
    "    fe = fe.reshape((exlen, eylen))\n",
    "    \n",
    "    return fe"
   ]
  },
  {
   "cell_type": "code",
   "execution_count": 10,
   "metadata": {},
   "outputs": [
    {
     "name": "stdout",
     "output_type": "stream",
     "text": [
      "with 18*18 sample points: err: 7.592550199664316e-11 mse: 9.233615682098931e-24\n"
     ]
    }
   ],
   "source": [
    "#evaluation coords\n",
    "exlen = eylen = 1025\n",
    "ex = np.linspace(0, 1, exlen)\n",
    "ey = np.linspace(0, 1, eylen)\n",
    "\n",
    "#points for interpolation\n",
    "qxlen = qylen = 18\n",
    "qx = np.linspace(0, 1, qxlen)\n",
    "qy = np.linspace(0, 1, qylen)\n",
    "\n",
    "fe = f_eval2d(f2d, ex, ey)\n",
    "\n",
    "#1d\n",
    "\"\"\"\n",
    "fex = f_eval1d(f1d, ex)\n",
    "\n",
    "base_xinterp = base_interpolate1d(f1d, qx, ex)\n",
    "xinterp = interpolate1d(f1d, qx, ex)\n",
    "\n",
    "print(f\"xinterp delta max: {np.max(np.abs(xinterp-base_xinterp))}\")\n",
    "\"\"\"\n",
    "#2d\n",
    "#base_basis = base_lagrangian_basis2d( qx, qy, ex, ey)\n",
    "#basis = lagrangian_basis2d( qx, qy, ex, ey)\n",
    "#print(f\"basis delta max: {np.max(np.abs(basis-base_basis))}\")\n",
    "\n",
    "#base_interp = base_interpolate2d(f2d, qx, qy, ex, ey)\n",
    "\n",
    "interp = interpolate2d(f2d, qx, qy, ex, ey)\n",
    "#print(f\"interp delta max: {np.max(np.abs(interp - base_interp))}\")\n",
    "\n",
    "err = np.max(np.abs(fe - interp))\n",
    "mse = np.sum(np.power(fe - interp, 2)) / np.prod(fe.shape)\n",
    "print(f\"with {qxlen}*{qylen} sample points: err: {err} mse: {mse}\")\n",
    "\n",
    "c = \"\"\"\n",
    "interpV2 = interpolate2dV2(f2d, qx, qy, ex, ey)\n",
    "print(f\"interp delta max: {np.max(np.abs(interpV2 - base_interp))}\")\n",
    "\n",
    "err = np.max(np.abs(fe - interpV2))\n",
    "mse = np.sum(np.power(fe - interpV2, 2)) / np.prod(fe.shape)\n",
    "print(f\"V2: with {qxlen}*{qylen} sample points: err: {err} mse: {mse}\")\n",
    "\"\"\"\n"
   ]
  },
  {
   "cell_type": "code",
   "execution_count": 5,
   "metadata": {},
   "outputs": [
    {
     "name": "stdout",
     "output_type": "stream",
     "text": [
      "338 ms ± 9.46 ms per loop (mean ± std. dev. of 7 runs, 1 loop each)\n"
     ]
    }
   ],
   "source": [
    "%timeit base_lagrangian_basis(qx, ex)"
   ]
  },
  {
   "cell_type": "code",
   "execution_count": 6,
   "metadata": {},
   "outputs": [
    {
     "name": "stdout",
     "output_type": "stream",
     "text": [
      "1.09 ms ± 24.8 µs per loop (mean ± std. dev. of 7 runs, 1000 loops each)\n"
     ]
    }
   ],
   "source": [
    "%timeit lagrangian_basis(qx, ex)"
   ]
  },
  {
   "cell_type": "code",
   "execution_count": 7,
   "metadata": {},
   "outputs": [
    {
     "name": "stdout",
     "output_type": "stream",
     "text": [
      "1.61 s ± 20.4 ms per loop (mean ± std. dev. of 7 runs, 1 loop each)\n"
     ]
    }
   ],
   "source": [
    "%timeit base_interp = base_interpolate2d(f2d, qx, qy, ex, ey)"
   ]
  },
  {
   "cell_type": "code",
   "execution_count": 12,
   "metadata": {},
   "outputs": [
    {
     "name": "stdout",
     "output_type": "stream",
     "text": [
      "973 ms ± 52 ms per loop (mean ± std. dev. of 7 runs, 1 loop each)\n",
      "1.08 s ± 124 ms per loop (mean ± std. dev. of 7 runs, 1 loop each)\n"
     ]
    }
   ],
   "source": [
    "%timeit interp = interpolate2d(f2d, qx, qy, ex, ey)\n",
    "%timeit interp = interpolate2dV2(f2d, qx, qy, ex, ey)"
   ]
  },
  {
   "cell_type": "code",
   "execution_count": 32,
   "metadata": {},
   "outputs": [
    {
     "name": "stdout",
     "output_type": "stream",
     "text": [
      " "
     ]
    }
   ],
   "source": [
    "%prun interp = interpolate2dV2(f2d, qx, qy, ex, ey)"
   ]
  },
  {
   "cell_type": "code",
   "execution_count": 68,
   "metadata": {},
   "outputs": [
    {
     "name": "stdout",
     "output_type": "stream",
     "text": [
      "with 19*19 sample points: err: 2.7009638969843763e-09\n"
     ]
    }
   ],
   "source": [
    "fe = f_eval2d(f2d, ex, ey)\n",
    "diff = np.max(np.abs(interp - base_interp))\n",
    "base_err = np.max(np.abs(fe - base_interp))\n",
    "err = np.max(np.abs(fe - interp))\n",
    "\n",
    "#print(f\"with {qxlen}*{qylen} sample points: diff: {diff} base_err: {base_err} err: {err}\")\n",
    "print(f\"with {qxlen}*{qylen} sample points: err: {err}\")"
   ]
  },
  {
   "cell_type": "code",
   "execution_count": null,
   "metadata": {},
   "outputs": [],
   "source": [
    "_ = plot()"
   ]
  }
 ],
 "metadata": {
  "kernelspec": {
   "display_name": "Python 3",
   "language": "python",
   "name": "python3"
  },
  "language_info": {
   "codemirror_mode": {
    "name": "ipython",
    "version": 3
   },
   "file_extension": ".py",
   "mimetype": "text/x-python",
   "name": "python",
   "nbconvert_exporter": "python",
   "pygments_lexer": "ipython3",
   "version": "3.7.9"
  }
 },
 "nbformat": 4,
 "nbformat_minor": 4
}
