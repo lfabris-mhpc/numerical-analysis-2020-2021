{
 "cells": [
  {
   "cell_type": "markdown",
   "metadata": {},
   "source": [
    "# Least squares\n",
    "\n",
    "The following is an example from Lecture 06.\n",
    "\n",
    "The result of census of the population of Switzerland between 1900 and 2010 (in thousands) is summarized in the following table:\n",
    "\n",
    "|\tyear\t|\tpopulation\t|\n",
    "|-----------|---------------|\n",
    "|\t1900\t|\t3315\t|\n",
    "|\t1910\t|\t3753\t|\n",
    "|\t1920\t|\t3880\t|\n",
    "|\t1930\t|\t4066\t|\n",
    "|\t1941\t|\t4266\t|\n",
    "|\t1950\t|\t4715\t|\n",
    "|\t1960\t|\t5429\t|\n",
    "|\t1970\t|\t6270\t|\n",
    "|\t1980\t|\t6366\t|\n",
    "|\t1990\t|\t6874\t|\n",
    "|\t2000\t|\t7288\t|\n",
    "|\t2010\t|\t7783\t|\n",
    "\n",
    "\n",
    "* Is it possible to estimate the number of inhabitants of Switzerland\n",
    "during the year when there has not been census, for example in 1945\n",
    "and 1975?\n",
    "\n",
    "* Is it possible to predict the number of inhabitants of Switzerland in\n",
    "2020?"
   ]
  },
  {
   "cell_type": "code",
   "execution_count": 32,
   "metadata": {},
   "outputs": [
    {
     "name": "stdout",
     "output_type": "stream",
     "text": [
      "coefficients from linalg: [[ 1.91645229e-07]\n",
      " [-5.19952887e-06]\n",
      " [ 1.45340120e-04]\n",
      " [-4.05413727e-03]\n",
      " [ 1.13089408e-01]\n",
      " [-3.33817595e-01]\n",
      " [ 8.05958076e-01]]\n",
      "coefficients from polyfit: [[-1.25074604e-08]\n",
      " [ 1.51812549e-04]\n",
      " [-7.66899023e-01]\n",
      " [ 2.06394346e+03]\n",
      " [-3.12129643e+06]\n",
      " [ 2.51506154e+09]\n",
      " [-8.43624719e+11]]\n",
      "population in 1945: [1.02329774e+13] vs [4520.69042969]\n",
      "population in 1975: [1.12196076e+13] vs [6309.51721191]\n",
      "population in 2020: [1.28473721e+13] vs [9074.63635254]\n"
     ]
    },
    {
     "data": {
      "image/png": "[encoded data removed]",
      "text/plain": [
       "<Figure size 432x288 with 1 Axes>"
      ]
     },
     "metadata": {
      "needs_background": "light"
     },
     "output_type": "display_data"
    }
   ],
   "source": [
    "%matplotlib inline\n",
    "from numpy import *\n",
    "from matplotlib.pyplot import *\n",
    "\n",
    "year = array([1900, 1910, 1920, 1930, 1941, 1950, 1960, 1970, 1980, 1990, 2000, 2010])\n",
    "population = array([3315, 3753, 3880, 4066, 4266, 4715, 5429, 6270, 6366, 6874, 7288, 7783])\n",
    "\n",
    "assert len(year) is len(population)\n",
    "n = len(year)\n",
    "deg = 6\n",
    "#B = matrix([ones(n), year, year**2, year**3]).T#, year**4]).T\n",
    "B = matrix([year**i for i in range(deg+1)]).T#, year**4]).T\n",
    "BT = B.T\n",
    "\n",
    "#makes y the column vector of population\n",
    "y = matrix(population).T\n",
    "\n",
    "a = linalg.solve(BT*B, BT*y)\n",
    "a = array([c for c in reversed(a)])\n",
    "a = a.reshape((deg+1, 1))\n",
    "print(f\"coefficients from linalg: {a}\")\n",
    "#\n",
    "b = polyfit(year, y, deg)#, rcond=None, full=False, w=None, cov=False)\n",
    "print(f\"coefficients from polyfit: {b}\")\n",
    "\n",
    "xx = linspace(1900, 2010, 100)\n",
    "XX = matrix([xx**i for i in range(deg)]).T\n",
    "#f = lambda coeff: sum(XX * coeff, axis=1)#a0 + a1*x + a2*x**2 + a3*x**3# + a4*x**4\n",
    "f = lambda coeff, x: polyval(coeff, x)\n",
    "\n",
    "_ = plot(xx, polyval(a, xx))\n",
    "_ = plot(xx, polyval(b, xx))\n",
    "_ = scatter(year, population, color='r')\n",
    "\n",
    "print(f\"population in 1945: {f(a, 1945)} vs {f(b, 1945)}\")\n",
    "print(f\"population in 1975: {f(a, 1975)} vs {f(b, 1975)}\")\n",
    "print(f\"population in 2020: {f(a, 2020)} vs {f(b, 2020)}\")"
   ]
  }
 ],
 "metadata": {
  "anaconda-cloud": {},
  "kernelspec": {
   "display_name": "Python 3",
   "language": "python",
   "name": "python3"
  },
  "language_info": {
   "codemirror_mode": {
    "name": "ipython",
    "version": 3
   },
   "file_extension": ".py",
   "mimetype": "text/x-python",
   "name": "python",
   "nbconvert_exporter": "python",
   "pygments_lexer": "ipython3",
   "version": "3.7.9"
  }
 },
 "nbformat": 4,
 "nbformat_minor": 1
}
