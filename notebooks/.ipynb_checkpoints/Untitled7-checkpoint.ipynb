{
 "cells": [
  {
   "cell_type": "code",
   "execution_count": 41,
   "metadata": {},
   "outputs": [],
   "source": [
    "import numpy as np\n",
    "import scipy as sp\n",
    "import sympy as sym\n",
    "import sympy.abc\n",
    "import matplotlib.pyplot as plt\n",
    "from collections import namedtuple\n",
    "\n",
    "from enum import Enum"
   ]
  },
  {
   "cell_type": "code",
   "execution_count": 42,
   "metadata": {},
   "outputs": [],
   "source": [
    "class Disc(Enum):\n",
    "    EMPTY = 0\n",
    "    RED = 1\n",
    "    YELLOW = 2"
   ]
  },
  {
   "cell_type": "code",
   "execution_count": 43,
   "metadata": {},
   "outputs": [],
   "source": [
    "#meshgrid \"linearized coordinates\"\n",
    "xcoords = list(range(3))\n",
    "ycoords = list(1+2*i for i in range(4))\n",
    "\n",
    "xs, ys = np.meshgrid(xcoords, ycoords)"
   ]
  },
  {
   "cell_type": "code",
   "execution_count": 44,
   "metadata": {},
   "outputs": [
    {
     "data": {
      "text/plain": [
       "(array([[0, 1, 2],\n",
       "        [0, 1, 2],\n",
       "        [0, 1, 2],\n",
       "        [0, 1, 2]]),\n",
       " array([[1, 1, 1],\n",
       "        [3, 3, 3],\n",
       "        [5, 5, 5],\n",
       "        [7, 7, 7]]))"
      ]
     },
     "execution_count": 44,
     "metadata": {},
     "output_type": "execute_result"
    }
   ],
   "source": [
    "xs, ys"
   ]
  },
  {
   "cell_type": "code",
   "execution_count": 45,
   "metadata": {},
   "outputs": [],
   "source": [
    "def divide(a, b):\n",
    "    try:\n",
    "        return a / b\n",
    "    except ZeroDivisionError:\n",
    "        return np.nan"
   ]
  },
  {
   "cell_type": "code",
   "execution_count": 88,
   "metadata": {},
   "outputs": [],
   "source": [
    "diff = 1\n",
    "x = sympy.abc.x\n",
    "y = sympy.abc.y\n",
    "\n",
    "side = 1\n",
    "points = 20\n",
    "\n",
    "#on a plate (square :)\n",
    "#note: laplacian (the upper point triangle) is the jacobian of a jacobian -> matrix of derivatives\n",
    "#the nx*ny x nx*ny matrix has -4/h^2 on the main diagonal\n",
    "#plus, some 1s displaced; the neighbors along x, and the neighbors above and below (spaced by ny)\n",
    "#the boundary points must satisfy the boundary conditions\n",
    "\n",
    "def build_point_positions():\n",
    "    xcoords = np.linspace(0, side, points)\n",
    "    ycoords = np.linspace(0, side, points)\n",
    "    \n",
    "    xmesh, ymesh = np.meshgrid(xcoords, ycoords)\n",
    "    #understand why row major isn't good\n",
    "    return xmesh.flatten(), side - ymesh.flatten()"
   ]
  },
  {
   "cell_type": "code",
   "execution_count": 89,
   "metadata": {},
   "outputs": [],
   "source": [
    "def build_matrix():\n",
    "    h = side /(points - 1)\n",
    "    \n",
    "    #d = np.diag(d) + np.diag(d, -1) + np.diag(d + 1)\n",
    "    d = np.ones((points * points,), dtype=np.float64) * -4\n",
    "    dl = np.ones((points * points - 1,), dtype=np.float64)\n",
    "    dr = np.ones((points * points - 1,), dtype=np.float64)\n",
    "    u_and_b = np.ones((points * points - points), dtype=np.float64)\n",
    "    \n",
    "    m = np.diag(d) + np.diag(dl, -1) + np.diag(dr, +1) + np.diag(u_and_b, -points) + np.diag(u_and_b, points)\n",
    "    m /= h * h\n",
    "    \n",
    "    return m"
   ]
  },
  {
   "cell_type": "code",
   "execution_count": 90,
   "metadata": {},
   "outputs": [],
   "source": [
    "def build_rhs(f):\n",
    "    xcoords, ycoords = build_point_positions()\n",
    "    return f(xcoords, ycoords)"
   ]
  },
  {
   "cell_type": "code",
   "execution_count": null,
   "metadata": {},
   "outputs": [],
   "source": [
    "#system condensation: handle boundaries\n",
    "#idea: eliminate the variable -> eliminate row and drop elements\n",
    "#in the i,i place we could put 1, but it can introduce numerical problems\n",
    "#an alternative is putting the average of the non eliminated elements of the diagonal"
   ]
  },
  {
   "cell_type": "code",
   "execution_count": 100,
   "metadata": {},
   "outputs": [],
   "source": [
    "class Side(Enum):\n",
    "    BOTTOM = 0\n",
    "    TOP = 1\n",
    "    LEFT = 2\n",
    "    RIGHT = 3\n",
    "\n",
    "def condense(m, rhs, d_gamma):\n",
    "    h = side /(points - 1)\n",
    "    xcoords, ycoords = build_point_positions()\n",
    "    \n",
    "    for i in range(points):\n",
    "        indices = {}\n",
    "        indices[Side.TOP] = i\n",
    "        indices[Side.BOTTOM] = points * (points - 1) + i\n",
    "        indices[Side.LEFT] = points * i\n",
    "        indices[Side.RIGHT] = points * i + points - 1\n",
    "        \n",
    "        for s in Side:\n",
    "            cur_idx = indices[s]\n",
    "            xpoint = xcoords[cur_idx]\n",
    "            ypoint = ycoords[cur_idx]\n",
    "            bc_value = d_gamma(xpoint, ypoint)\n",
    "            \n",
    "            rhs[cur_idx] = 0\n",
    "            m[cur_idx, :] = 0\n",
    "            clm = m[:, cur_idx]\n",
    "            \n",
    "            rhs -= clm * bc_value\n",
    "            \n",
    "            m[:, cur_idx] = 0\n",
    "            \n",
    "            m[cur_idx, cur_idx] = -4 / (h * h)\n",
    "            \n",
    "def fix_boundary_conditions(sol, d_gamma):\n",
    "    h = side /(points - 1)\n",
    "    xcoords, ycoords = build_point_positions()\n",
    "    \n",
    "    for i in range(points):\n",
    "        indices = {}\n",
    "        indices[Side.TOP] = i\n",
    "        indices[Side.BOTTOM] = points * (points - 1) + i\n",
    "        indices[Side.LEFT] = points * i\n",
    "        indices[Side.RIGHT] = points * i + points - 1\n",
    "        \n",
    "        for s in Side:\n",
    "            cur_idx = indices[s]\n",
    "            xpoint = xcoords[cur_idx]\n",
    "            ypoint = ycoords[cur_idx]\n",
    "            bc_value = d_gamma(xpoint, ypoint)\n",
    "            \n",
    "            sol[cur_idx] = bc_value\n",
    "    "
   ]
  },
  {
   "cell_type": "code",
   "execution_count": 104,
   "metadata": {},
   "outputs": [
    {
     "data": {
      "text/plain": [
       "<matplotlib.image.AxesImage at 0x7f605c515d90>"
      ]
     },
     "execution_count": 104,
     "metadata": {},
     "output_type": "execute_result"
    },
    {
     "data": {
      "image/png": "[encoded data removed]",
      "text/plain": [
       "<Figure size 288x288 with 1 Axes>"
      ]
     },
     "metadata": {
      "needs_background": "light"
     },
     "output_type": "display_data"
    }
   ],
   "source": [
    "def f(x, y):\n",
    "    if hasattr(x, \"shape\"):\n",
    "        return np.sin(2.5 * np.pi * x)\n",
    "    return 1\n",
    "\n",
    "def d_gamma(x, y):\n",
    "    return 0\n",
    "\n",
    "m = build_matrix()\n",
    "rhs = build_rhs(f)\n",
    "\n",
    "plt.matshow(m)"
   ]
  },
  {
   "cell_type": "code",
   "execution_count": 105,
   "metadata": {},
   "outputs": [
    {
     "data": {
      "text/plain": [
       "<matplotlib.image.AxesImage at 0x7f605c4958d0>"
      ]
     },
     "execution_count": 105,
     "metadata": {},
     "output_type": "execute_result"
    },
    {
     "data": {
      "image/png": "[encoded data removed]",
      "text/plain": [
       "<Figure size 288x288 with 1 Axes>"
      ]
     },
     "metadata": {
      "needs_background": "light"
     },
     "output_type": "display_data"
    }
   ],
   "source": [
    "condense(m, rhs, d_gamma)\n",
    "plt.matshow(m)"
   ]
  },
  {
   "cell_type": "code",
   "execution_count": 106,
   "metadata": {},
   "outputs": [
    {
     "data": {
      "text/plain": [
       "<matplotlib.image.AxesImage at 0x7f605c411b90>"
      ]
     },
     "execution_count": 106,
     "metadata": {},
     "output_type": "execute_result"
    },
    {
     "data": {
      "image/png": "[encoded data removed]",
      "text/plain": [
       "<Figure size 288x288 with 1 Axes>"
      ]
     },
     "metadata": {
      "needs_background": "light"
     },
     "output_type": "display_data"
    }
   ],
   "source": [
    "sol = np.linalg.solve(m, rhs)\n",
    "fix_boundary_conditions(sol, d_gamma)\n",
    "sol = sol.reshape(points, points)\n",
    "plt.matshow(sol)"
   ]
  }
 ],
 "metadata": {
  "kernelspec": {
   "display_name": "Python 3",
   "language": "python",
   "name": "python3"
  },
  "language_info": {
   "codemirror_mode": {
    "name": "ipython",
    "version": 3
   },
   "file_extension": ".py",
   "mimetype": "text/x-python",
   "name": "python",
   "nbconvert_exporter": "python",
   "pygments_lexer": "ipython3",
   "version": "3.7.9"
  }
 },
 "nbformat": 4,
 "nbformat_minor": 4
}
