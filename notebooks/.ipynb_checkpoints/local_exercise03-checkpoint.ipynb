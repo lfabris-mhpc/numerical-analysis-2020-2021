{
 "cells": [
  {
   "cell_type": "code",
   "execution_count": 5,
   "metadata": {},
   "outputs": [],
   "source": [
    "import numpy as np\n",
    "import math as m"
   ]
  },
  {
   "cell_type": "code",
   "execution_count": 60,
   "metadata": {},
   "outputs": [],
   "source": [
    "def build_lagrangian_basis(q, e):\n",
    "    nqpts = q.shape[0]\n",
    "    nepts = e.shape[0]\n",
    "    \n",
    "    basis = np.ones((nepts, nqpts), dtype=np.float64)\n",
    "    for i in range(nepts):\n",
    "        for j in range(nqpts):\n",
    "            for k in range(nqpts):\n",
    "                if k == j:\n",
    "                    continue\n",
    "                basis[i, j] *= (e[i] - q[k])/(q[j] - q[k])\n",
    "    return basis "
   ]
  },
  {
   "cell_type": "code",
   "execution_count": 69,
   "metadata": {},
   "outputs": [],
   "source": [
    "e = np.linspace(0, 1, 100)\n",
    "q = np.linspace(0, 1, 43)"
   ]
  },
  {
   "cell_type": "code",
   "execution_count": 62,
   "metadata": {},
   "outputs": [],
   "source": [
    "def interpolate(f, q, e):\n",
    "    nqpts = q.shape[0]\n",
    "    nepts = e.shape[0]\n",
    "    \n",
    "    basis = build_lagrangian_basis(q, e)\n",
    "    \n",
    "    f_e = np.zeros((nepts), dtype=np.float64)\n",
    "    for i in range(nepts):\n",
    "        #f_e = np.sum(np.calculate(f(q)) \n",
    "        for j in range(nqpts):\n",
    "            f_e[i] += basis[i, j] * f(q[j])\n",
    "    return f_e\n",
    "    "
   ]
  },
  {
   "cell_type": "code",
   "execution_count": 63,
   "metadata": {},
   "outputs": [],
   "source": [
    "def f(x):\n",
    "    return np.sin(2*np.pi*x)"
   ]
  },
  {
   "cell_type": "code",
   "execution_count": 70,
   "metadata": {},
   "outputs": [
    {
     "data": {
      "text/plain": [
       "[<matplotlib.lines.Line2D at 0x7ff8e2d57790>]"
      ]
     },
     "execution_count": 70,
     "metadata": {},
     "output_type": "execute_result"
    },
    {
     "data": {
      "image/png": "[encoded data removed]",
      "text/plain": [
       "<Figure size 432x288 with 1 Axes>"
      ]
     },
     "metadata": {
      "needs_background": "light"
     },
     "output_type": "display_data"
    }
   ],
   "source": [
    "f_interp=interpolate(f, q, e)\n",
    "plt.plot(e, f_interp)\n",
    "plt.plot(e, f(e), color=\"red\")"
   ]
  },
  {
   "cell_type": "code",
   "execution_count": 67,
   "metadata": {},
   "outputs": [],
   "source": [
    "import matplotlib.pyplot as plt"
   ]
  },
  {
   "cell_type": "code",
   "execution_count": 125,
   "metadata": {},
   "outputs": [],
   "source": [
    "def build_lagrangian_basis_2d(q_x, q_y, e_x, e_y):\n",
    "    nqxpts = q_x.shape[0]\n",
    "    nqypts = q_y.shape[0]\n",
    "    nexpts = e_x.shape[0]\n",
    "    neypts = e_y.shape[0]\n",
    "    \n",
    "    basis_shape = (nexpts, neypts, nqxpts, nqypts)\n",
    "    basis = np.empty(basis_shape)\n",
    "    b1 = build_lagrangian_basis(q_x, e_x)\n",
    "    b2 = build_lagrangian_basis(q_y, e_y)\n",
    "    \n",
    "    \"\"\"\n",
    "    for i in range(nexpts):\n",
    "        for j in range(neypts):\n",
    "            for k in range(nqxpts):\n",
    "                for ll in range(nqypts):\n",
    "                    basis[i, j, k, ll] = b1[i, k] * b2[j, ll]\n",
    "    \"\"\"\n",
    "    \n",
    "    b1 = b1.reshape((nexpts, 1, nqxpts, 1))\n",
    "    b2 = b2.reshape((1, neypts, 1, nqypts))\n",
    "    basis = b1 * b2\n",
    "    return basis\n",
    "    "
   ]
  },
  {
   "cell_type": "code",
   "execution_count": 130,
   "metadata": {},
   "outputs": [],
   "source": [
    "q_x = np.linspace(0, 1, 10)\n",
    "q_y = np.linspace(0, 1, 10)\n",
    "e_x = np.linspace(0, 1, 1025)\n",
    "e_y = np.linspace(0, 1, 1025)\n",
    "\n",
    "basis2d = build_lagrangian_basis_2d(q_x, q_y, e_x, e_y)\n",
    "#basis2d"
   ]
  },
  {
   "cell_type": "code",
   "execution_count": 138,
   "metadata": {},
   "outputs": [],
   "source": [
    "def interpolate_2d(f, q_x, q_y, e_x, e_y):\n",
    "    nqxpts = q_x.shape[0]\n",
    "    nqypts = q_y.shape[0]\n",
    "    nexpts = e_x.shape[0]\n",
    "    neypts = e_y.shape[0]\n",
    "    \n",
    "    basis = build_lagrangian_basis_2d(q_x, q_y, e_x, e_y)\n",
    "    f_e = np.zeros((nexpts, neypts), dtype=np.float64)\n",
    "    \n",
    "    f_q = evaluate_f(q_x, q_y)\n",
    "    \"\"\"\n",
    "    for i in range(nexpts):\n",
    "        for j in range(neypts):\n",
    "            for k in range(nqxpts):\n",
    "                for ll in range(nqypts):\n",
    "                    f_e[i, j] += basis[i, j, k, ll] *f_q[k, ll]\n",
    "    \"\"\"\n",
    "    \"\"\"\n",
    "    #get rid of implicit matrix mult\n",
    "    for k in range(nqxpts):\n",
    "        for ll in range(nqypts):\n",
    "            f_e[:, :] += basis[:, :, k, ll] * f_q[k, ll]\n",
    "    \"\"\"\n",
    "    \n",
    "    basis_reshaped = basis.reshape((nexpts*neypts, nqxpts*nqypts))\n",
    "    f_q_reshaped = f_q.reshape((nqxpts*nqypts))\n",
    "    \n",
    "    f_e = basis_reshaped @ f_q_reshaped\n",
    "    f_e = f_e.reshape((nexpts, neypts))\n",
    "    \n",
    "    return f_e\n",
    "    "
   ]
  },
  {
   "cell_type": "code",
   "execution_count": 132,
   "metadata": {},
   "outputs": [],
   "source": [
    "def f(x, y):\n",
    "    return np.sin(2*np.pi*x)+y*y"
   ]
  },
  {
   "cell_type": "code",
   "execution_count": 140,
   "metadata": {},
   "outputs": [
    {
     "name": "stdout",
     "output_type": "stream",
     "text": [
      " "
     ]
    }
   ],
   "source": [
    "%prun interpolate_f = interpolate_2d(f, q_x, q_y, e_x, e_y)"
   ]
  },
  {
   "cell_type": "code",
   "execution_count": 134,
   "metadata": {},
   "outputs": [],
   "source": [
    "def evaluate_f(e_x, e_y):\n",
    "    nexpts = e_x.shape[0]\n",
    "    neypts = e_y.shape[0]\n",
    "    f_e = np.empty((nexpts, neypts), dtype=np.float64)\n",
    "    \n",
    "    for i in range(nexpts):\n",
    "        for j in range(neypts):\n",
    "            f_e[i, j] = f(e_x[i], e_y[j])\n",
    "\n",
    "    return f_e"
   ]
  },
  {
   "cell_type": "code",
   "execution_count": 135,
   "metadata": {},
   "outputs": [
    {
     "data": {
      "text/plain": [
       "7.224879486034119e-05"
      ]
     },
     "execution_count": 135,
     "metadata": {},
     "output_type": "execute_result"
    }
   ],
   "source": [
    "np.max(np.abs(evaluate_f(e_x, e_y) - interpolate_f))"
   ]
  }
 ],
 "metadata": {
  "kernelspec": {
   "display_name": "Python 3",
   "language": "python",
   "name": "python3"
  },
  "language_info": {
   "codemirror_mode": {
    "name": "ipython",
    "version": 3
   },
   "file_extension": ".py",
   "mimetype": "text/x-python",
   "name": "python",
   "nbconvert_exporter": "python",
   "pygments_lexer": "ipython3",
   "version": "3.7.9"
  }
 },
 "nbformat": 4,
 "nbformat_minor": 4
}
