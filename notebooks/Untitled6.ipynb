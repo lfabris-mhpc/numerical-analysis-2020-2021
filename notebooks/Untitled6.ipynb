{
 "cells": [
  {
   "cell_type": "code",
   "execution_count": 1,
   "metadata": {},
   "outputs": [],
   "source": [
    "import numpy as np"
   ]
  },
  {
   "cell_type": "code",
   "execution_count": 2,
   "metadata": {},
   "outputs": [
    {
     "data": {
      "text/plain": [
       "array([[0.08151709, 0.37498316, 0.29531792, 0.72158675],\n",
       "       [0.6144777 , 0.10800492, 0.00626277, 0.4146906 ],\n",
       "       [0.52341934, 0.04023738, 0.35681052, 0.99630793]])"
      ]
     },
     "execution_count": 2,
     "metadata": {},
     "output_type": "execute_result"
    }
   ],
   "source": [
    "a = np.random.random((3, 4))\n",
    "a"
   ]
  },
  {
   "cell_type": "code",
   "execution_count": 11,
   "metadata": {},
   "outputs": [
    {
     "data": {
      "text/plain": [
       "array([[  1.,   1.,   1.,   1.],\n",
       "       [100., 100., 100., 100.],\n",
       "       [  1.,   1.,   1.,   1.]])"
      ]
     },
     "execution_count": 11,
     "metadata": {},
     "output_type": "execute_result"
    }
   ],
   "source": [
    "rowmult = np.identity(3)\n",
    "rowmult[1, 1] = 100\n",
    "rowmult\n",
    "rowmult @ a / a"
   ]
  },
  {
   "cell_type": "code",
   "execution_count": 12,
   "metadata": {},
   "outputs": [
    {
     "data": {
      "text/plain": [
       "array([[  1., 100.,   1.,   1.],\n",
       "       [  1., 100.,   1.,   1.],\n",
       "       [  1., 100.,   1.,   1.]])"
      ]
     },
     "execution_count": 12,
     "metadata": {},
     "output_type": "execute_result"
    }
   ],
   "source": [
    "colmult = np.identity(4)\n",
    "colmult[1, 1] = 100\n",
    "colmult\n",
    "a @ colmult / a"
   ]
  },
  {
   "cell_type": "code",
   "execution_count": 16,
   "metadata": {},
   "outputs": [
    {
     "data": {
      "text/plain": [
       "array([[0.08151709, 0.37498316, 0.29531792, 0.72158675],\n",
       "       [0.52341934, 0.04023738, 0.35681052, 0.99630793],\n",
       "       [0.6144777 , 0.10800492, 0.00626277, 0.4146906 ]])"
      ]
     },
     "execution_count": 16,
     "metadata": {},
     "output_type": "execute_result"
    }
   ],
   "source": [
    "rowexchange = np.identity(3)\n",
    "t = rowexchange[1, :].copy()\n",
    "rowexchange[1, :] = rowexchange[2, :]\n",
    "rowexchange[2, :] = t\n",
    "rowexchange\n",
    "rowexchange @ a"
   ]
  },
  {
   "cell_type": "code",
   "execution_count": 17,
   "metadata": {},
   "outputs": [
    {
     "data": {
      "text/plain": [
       "array([[0.08151709, 0.29531792, 0.37498316, 0.72158675],\n",
       "       [0.6144777 , 0.00626277, 0.10800492, 0.4146906 ],\n",
       "       [0.52341934, 0.35681052, 0.04023738, 0.99630793]])"
      ]
     },
     "execution_count": 17,
     "metadata": {},
     "output_type": "execute_result"
    }
   ],
   "source": [
    "colexchange = np.identity(4)\n",
    "t = colexchange[:, 1].copy()\n",
    "colexchange[:, 1] = colexchange[:, 2]\n",
    "colexchange[:, 2] = t\n",
    "a @ colexchange"
   ]
  }
 ],
 "metadata": {
  "kernelspec": {
   "display_name": "Python 3",
   "language": "python",
   "name": "python3"
  },
  "language_info": {
   "codemirror_mode": {
    "name": "ipython",
    "version": 3
   },
   "file_extension": ".py",
   "mimetype": "text/x-python",
   "name": "python",
   "nbconvert_exporter": "python",
   "pygments_lexer": "ipython3",
   "version": "3.7.9"
  }
 },
 "nbformat": 4,
 "nbformat_minor": 4
}
