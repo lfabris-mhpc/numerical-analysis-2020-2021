{
 "cells": [
  {
   "cell_type": "markdown",
   "metadata": {
    "ein.tags": [
     "worksheet-0"
    ],
    "slideshow": {
     "slide_type": "-"
    }
   },
   "source": [
    "# Nonlinear Equations\n",
    "\n",
    "We want to find a root of the nonlinear function $f$ using different methods.\n",
    "\n",
    "1. Bisection method\n",
    "2. Newton method\n",
    "3. Chord method\n",
    "4. Secant method\n",
    "5. Fixed point iterations\n",
    "\n",
    "\n",
    "\n"
   ]
  },
  {
   "cell_type": "code",
   "execution_count": 29,
   "metadata": {},
   "outputs": [],
   "source": [
    "%matplotlib inline\n",
    "from numpy import *\n",
    "from matplotlib.pyplot import *\n",
    "import sympy as sym\n",
    "import math as m\n"
   ]
  },
  {
   "cell_type": "code",
   "execution_count": 2,
   "metadata": {
    "autoscroll": "json-false",
    "ein.tags": [
     "worksheet-0"
    ],
    "slideshow": {
     "slide_type": "-"
    }
   },
   "outputs": [
    {
     "data": {
      "image/png": "[encoded data removed]",
      "text/plain": [
       "<Figure size 432x288 with 1 Axes>"
      ]
     },
     "metadata": {
      "needs_background": "light"
     },
     "output_type": "display_data"
    }
   ],
   "source": [
    "t = sym.symbols('t')\n",
    "\n",
    "f_sym = t/8. * (63.*t**4 - 70.*t**2. +15.) # Legendre polynomial of order 5\n",
    "\n",
    "f_prime_sym = sym.diff(f_sym,t)\n",
    "\n",
    "f = sym.lambdify(t, f_sym, 'numpy')\n",
    "f_prime = sym.lambdify(t,f_prime_sym, 'numpy')\n",
    "\n",
    "phi = lambda x : 63./70.*x**3 + 15./(70.*x)\n",
    "#phi = lambda x : 70.0/15.0*x**3 - 63.0/15.0*x**5\n",
    "#phi = lambda x : sqrt((63.*x**4 + 15.0)/70.)\n",
    "\n",
    "# Let's plot\n",
    "n = 1025\n",
    "\n",
    "x = linspace(-1,1,n)\n",
    "c = zeros_like(x)\n",
    "\n",
    "_ = plot(x,f(x))\n",
    "_ = plot(x,c)\n",
    "_ = grid()\n"
   ]
  },
  {
   "cell_type": "code",
   "execution_count": 97,
   "metadata": {},
   "outputs": [],
   "source": [
    "# Initial data for the variuos algorithms\n",
    "\n",
    "# interval in which we seek the solution \n",
    "a = 0.7\n",
    "b = 1.\n",
    "\n",
    "# initial points\n",
    "x0 = (a+b)/2.0\n",
    "x00 = b\n"
   ]
  },
  {
   "cell_type": "code",
   "execution_count": 104,
   "metadata": {},
   "outputs": [],
   "source": [
    "# stopping criteria\n",
    "eps = 1e-10\n",
    "n_max = 1000\n",
    "verbose = True\n",
    "err_type = 1"
   ]
  },
  {
   "cell_type": "markdown",
   "metadata": {},
   "source": [
    "## Bisection method\n",
    "\n",
    "$$\n",
    "x^k = \\frac{a^k+b^k}{2}\n",
    "$$\n",
    "```\n",
    "                   if (f(a_k) * f(x_k)) < 0:\n",
    "                      b_k1 = x_k\n",
    "                      a_k1 = a_k\n",
    "                   else:\n",
    "                      a_k1 = x_k\n",
    "                      b_k1 = b_k\n",
    "```"
   ]
  },
  {
   "cell_type": "code",
   "execution_count": 105,
   "metadata": {},
   "outputs": [
    {
     "name": "stdout",
     "output_type": "stream",
     "text": [
      "max it for first criterion: 32\n",
      "[a, b]: [0.7, 1.0] tolerance: 1e-10 max iterations: 1000\n",
      "stopped at iteration: 32\n",
      "x: 0.9061798459501006\n",
      "error: 7.857261621871514e-11\n",
      "CPU times: user 47.3 ms, sys: 168 µs, total: 47.5 ms\n",
      "Wall time: 44.3 ms\n"
     ]
    },
    {
     "data": {
      "image/png": "[encoded data removed]",
      "text/plain": [
       "<Figure size 432x288 with 1 Axes>"
      ]
     },
     "metadata": {
      "needs_background": "light"
     },
     "output_type": "display_data"
    }
   ],
   "source": [
    "def bisect(f, a, b, eps, n_max):\n",
    "    print(f\"[a, b]: [{a}, {b}] tolerance: {eps} max iterations: {n_max}\")\n",
    "    assert f(a)*f(b) < 0\n",
    "    a_new = a\n",
    "    b_new = b\n",
    "    x = mean([a,b])\n",
    "    err = eps + 1.\n",
    "    errors = [err]\n",
    "    it = 0\n",
    "\n",
    "    if verbose:\n",
    "        fxs = [abs(f(x))]\n",
    "    \n",
    "    while err > eps and it < n_max:\n",
    "        if f(a_new) * f(x) < 0:\n",
    "            # root in (a_new,x)\n",
    "            b_new = x\n",
    "        else:\n",
    "            # root in (x,b_new)\n",
    "            a_new = x\n",
    "        \n",
    "        x_new = mean([a_new, b_new])\n",
    "        \n",
    "        if err_type == 0:\n",
    "            #this err goes (b-a) / 2**(it + 1)\n",
    "            # -> it = log((b - a) / eps, 2)\n",
    "            err = 0.5 *(b_new - a_new)\n",
    "        elif err_type == 1:\n",
    "            #cannot predict\n",
    "            err = abs(f(x_new))\n",
    "        else:\n",
    "            #it's the same as the first, but with extra steps?\n",
    "            err = abs(x - x_new)\n",
    "        \n",
    "        errors.append(err)\n",
    "        x = x_new\n",
    "        if verbose:\n",
    "            fxs.append(abs(f(x)))\n",
    "        it += 1\n",
    "    \n",
    "    semilogy(errors)\n",
    "    #semilogy([2*e for e in errors])\n",
    "    if verbose:\n",
    "        semilogy(fxs)\n",
    "    print(f\"stopped at iteration: {it}\")\n",
    "    print(f\"x: {x}\")\n",
    "    print(f\"error: {err}\")\n",
    "    return errors\n",
    "\n",
    "print(f\"max it for first criterion: {m.ceil(m.log((b - a) / eps, 2))}\")\n",
    "\n",
    "%time errors_bisect = bisect(f, a, b, eps, n_max)\n",
    "\n",
    "#CPU times: user 26.4 ms, sys: 0 ns, total: 26.4 ms\n",
    "#Wall time: 24.1 ms\n"
   ]
  },
  {
   "cell_type": "code",
   "execution_count": null,
   "metadata": {
    "collapsed": true
   },
   "outputs": [],
   "source": [
    "# is the number of iterations coherent with the theoretical estimation?"
   ]
  },
  {
   "cell_type": "markdown",
   "metadata": {},
   "source": [
    "In order to find out other methods for solving non-linear equations, let's compute the Taylor's series of $f(x^k)$ up to the first order \n",
    "\n",
    "$$\n",
    "f(x^k) \\simeq f(x^k) + (x-x^k)f^{\\prime}(x^k)\n",
    "$$\n",
    "which suggests the following iterative scheme\n",
    "$$\n",
    "x^{k+1} = x^k - \\frac{f(x^k)}{f^{\\prime}(x^k)}\n",
    "$$\n",
    "\n",
    "The following methods are obtained applying the above scheme where\n",
    "\n",
    "$$\n",
    "f^{\\prime}(x^k) \\approx q^k\n",
    "$$"
   ]
  },
  {
   "cell_type": "markdown",
   "metadata": {},
   "source": [
    "## Newton's method\n",
    "$$\n",
    "q^k = f^{\\prime}(x^k)\n",
    "$$\n",
    "\n",
    "$$\n",
    "x^{k+1} = x^k - \\frac{f(x^k)}{q^k}\n",
    "$$"
   ]
  },
  {
   "cell_type": "code",
   "execution_count": 106,
   "metadata": {},
   "outputs": [
    {
     "name": "stdout",
     "output_type": "stream",
     "text": [
      "x0: 1.0 tolerance: 1e-10 max iterations: 1000\n",
      "stopped at iteration: 5\n",
      "x: 0.9061798459386647\n",
      "error: 5.633945684709343e-15\n",
      "CPU times: user 80.8 ms, sys: 0 ns, total: 80.8 ms\n",
      "Wall time: 80 ms\n"
     ]
    },
    {
     "data": {
      "image/png": "[encoded data removed]",
      "text/plain": [
       "<Figure size 432x288 with 1 Axes>"
      ]
     },
     "metadata": {
      "needs_background": "light"
     },
     "output_type": "display_data"
    }
   ],
   "source": [
    "def newton(f, f_prime, x0, eps, n_max):\n",
    "    print(f\"x0: {x0} tolerance: {eps} max iterations: {n_max}\")\n",
    "    x = x0\n",
    "    err = eps + 1.\n",
    "    errors = [err]\n",
    "    it = 0\n",
    "    \n",
    "    if verbose:\n",
    "        fxs = [abs(f(x))]\n",
    "    \n",
    "    while err > eps and it < n_max:\n",
    "        f_p = f_prime(x)\n",
    "        #assert abs(f_p) > eps\n",
    "        if abs(f_p) < eps:\n",
    "            print(\"First derivative is zero\")\n",
    "            return None\n",
    "        x_new = x - f(x) / f_p\n",
    "        \n",
    "        if err_type == 0:\n",
    "            raise Exception\n",
    "        elif err_type == 1:\n",
    "            #cannot predict\n",
    "            err = abs(f(x_new))\n",
    "        else:\n",
    "            #it's the same as the first, but with extra steps?\n",
    "            err = abs(x - x_new)\n",
    "        \n",
    "        errors.append(err)\n",
    "        x = x_new\n",
    "        if verbose:\n",
    "            fxs.append(abs(f(x)))\n",
    "        it += 1\n",
    "    \n",
    "    semilogy(errors)\n",
    "    if verbose:\n",
    "        semilogy(fxs)\n",
    "    print(f\"stopped at iteration: {it}\")\n",
    "    print(f\"x: {x}\")\n",
    "    print(f\"error: {err}\")\n",
    "    return errors\n",
    "\n",
    "#newton converges to unpredictable roots, so starting from a refined solution (eg, bisect)\n",
    "#might converge to the nearest\n",
    "%time errors_newton = newton(f, f_prime, 1.0, eps, n_max)\n",
    "\n",
    "#bisect:\n",
    "#CPU times: user 26.4 ms, sys: 0 ns, total: 26.4 ms\n",
    "#Wall time: 24.1 ms\n",
    "#newton:\n",
    "#CPU times: user 23.6 ms, sys: 220 µs, total: 23.8 ms\n",
    "#Wall time: 20.2 ms"
   ]
  },
  {
   "cell_type": "markdown",
   "metadata": {},
   "source": [
    "## Chord method\n",
    "\n",
    "$$\n",
    "q^k \\equiv q = \\frac{f(b)-f(a)}{b-a}\n",
    "$$\n",
    "\n",
    "$$\n",
    "x^{k+1} = x^k - \\frac{f(x^k)}{q}\n",
    "$$"
   ]
  },
  {
   "cell_type": "code",
   "execution_count": 107,
   "metadata": {
    "autoscroll": "json-false",
    "ein.tags": [
     "worksheet-0"
    ],
    "slideshow": {
     "slide_type": "-"
    }
   },
   "outputs": [
    {
     "name": "stdout",
     "output_type": "stream",
     "text": [
      "[a, b]: [0.7, 1.0], x0: 0.85 tolerance: 1e-10 max iterations: 1000\n",
      "q: 4.5506625\n",
      "stopped at iteration: 31\n",
      "x: 0.9061798459502479\n",
      "error: 7.958511674322147e-11\n",
      "CPU times: user 60.4 ms, sys: 3.77 ms, total: 64.2 ms\n",
      "Wall time: 61.2 ms\n"
     ]
    },
    {
     "data": {
      "image/png": "[encoded data removed]",
      "text/plain": [
       "<Figure size 432x288 with 1 Axes>"
      ]
     },
     "metadata": {
      "needs_background": "light"
     },
     "output_type": "display_data"
    }
   ],
   "source": [
    "def chord(f, a, b, x0, eps, n_max):\n",
    "    print(f\"[a, b]: [{a}, {b}], x0: {x0} tolerance: {eps} max iterations: {n_max}\")\n",
    "    x = x0\n",
    "    err = eps + 1.\n",
    "    errors = [err]\n",
    "    it = 0\n",
    "    \n",
    "    q = (f(b) - f(a)) / (b - a)\n",
    "    print(f\"q: {q}\")\n",
    "    \n",
    "    if verbose:\n",
    "        fxs = [abs(f(x))]\n",
    "    \n",
    "    while err > eps and it < n_max:\n",
    "        x_new = x - f(x) / q\n",
    "        \n",
    "        if err_type == 0:\n",
    "            raise Exception\n",
    "        elif err_type == 1:\n",
    "            #cannot predict\n",
    "            err = abs(f(x_new))\n",
    "        else:\n",
    "            #it's the same as the first, but with extra steps?\n",
    "            err = abs(x - x_new)\n",
    "        \n",
    "        errors.append(err)\n",
    "        x = x_new\n",
    "        if verbose:\n",
    "            fxs.append(abs(f(x)))\n",
    "        it += 1\n",
    "    \n",
    "    semilogy(errors)\n",
    "    if verbose:\n",
    "        semilogy(fxs)\n",
    "    print(f\"stopped at iteration: {it}\")\n",
    "    print(f\"x: {x}\")\n",
    "    print(f\"error: {err}\")\n",
    "    return errors\n",
    "\n",
    "%time errors_chord = chord(f, a, b, x0, eps, n_max)\n",
    "\n",
    "#bisect:\n",
    "#CPU times: user 26.4 ms, sys: 0 ns, total: 26.4 ms\n",
    "#Wall time: 24.1 ms\n",
    "#newton:\n",
    "#CPU times: user 23.6 ms, sys: 220 µs, total: 23.8 ms\n",
    "#Wall time: 20.2 ms\n",
    "#chord:\n",
    "#CPU times: user 21.5 ms, sys: 87 µs, total: 21.6 ms\n",
    "#Wall time: 19.9 ms"
   ]
  },
  {
   "cell_type": "markdown",
   "metadata": {},
   "source": [
    "## Secant method\n",
    "\n",
    "$$\n",
    "q^k = \\frac{f(x^k)-f(x^{k-1})}{x^k - x^{k-1}}\n",
    "$$\n",
    "\n",
    "$$\n",
    "x^{k+1} = x^k - \\frac{f(x^k)}{q^k}\n",
    "$$\n",
    "\n",
    "Note that this algorithm requirs **two** initial points"
   ]
  },
  {
   "cell_type": "code",
   "execution_count": 109,
   "metadata": {},
   "outputs": [
    {
     "name": "stdout",
     "output_type": "stream",
     "text": [
      "x0: 0.85 x00: 1.0 tolerance: 1e-10 max iterations: 1000\n",
      "stopped at iteration: 7\n",
      "x: 0.906179845938664\n",
      "error: 0.0\n",
      "CPU times: user 46.5 ms, sys: 112 µs, total: 46.6 ms\n",
      "Wall time: 47.4 ms\n"
     ]
    },
    {
     "data": {
      "image/png": "[encoded data removed]",
      "text/plain": [
       "<Figure size 432x288 with 1 Axes>"
      ]
     },
     "metadata": {
      "needs_background": "light"
     },
     "output_type": "display_data"
    }
   ],
   "source": [
    "def secant(f, x0, x00, eps, n_max):\n",
    "    print(f\"x0: {x0} x00: {x00} tolerance: {eps} max iterations: {n_max}\")\n",
    "    x = x0\n",
    "    x_ = x00\n",
    "    err = eps + 1.\n",
    "    errors = [err]\n",
    "    it = 0\n",
    "    \n",
    "    if verbose:\n",
    "        fxs = [abs(f(x))]\n",
    "    \n",
    "    while err > eps and it < n_max:\n",
    "        fx = f(x)\n",
    "        q = (fx - f(x_)) / (x - x_)\n",
    "        x_new = x - fx / q\n",
    "        \n",
    "        if err_type == 0:\n",
    "            err = abs(x - x_new)/2\n",
    "        elif err_type == 1:\n",
    "            #cannot predict\n",
    "            err = abs(f(x_new))\n",
    "        else:\n",
    "            #it's the same as the first, but with extra steps?\n",
    "            err = abs(x - x_new)\n",
    "        \n",
    "        errors.append(err)\n",
    "        x, x_ = x_new, x\n",
    "        if verbose:\n",
    "            fxs.append(abs(f(x)))\n",
    "        it += 1\n",
    "    \n",
    "    semilogy(errors)\n",
    "    if verbose:\n",
    "        semilogy(fxs)\n",
    "    print(f\"stopped at iteration: {it}\")\n",
    "    print(f\"x: {x}\")\n",
    "    print(f\"error: {err}\")\n",
    "    return errors\n",
    "    \n",
    "%time errors_secant = secant(f, x0, x00, eps, n_max)"
   ]
  },
  {
   "cell_type": "markdown",
   "metadata": {},
   "source": [
    "## Fixed point iterations\n",
    "\n",
    "$$\n",
    "f(x)=0 \\to x-\\phi(x)=0\n",
    "$$\n",
    "\n",
    "$$\n",
    "x^{k+1} = \\phi(x^k)\n",
    "$$"
   ]
  },
  {
   "cell_type": "code",
   "execution_count": 117,
   "metadata": {},
   "outputs": [
    {
     "name": "stdout",
     "output_type": "stream",
     "text": [
      "x0: 0.3 tolerance: 1e-10 max iterations: 1000\n",
      "stopped at iteration: 10\n",
      "x: 0.5384693101084483\n",
      "error: 6.708269298482029e-12\n",
      "CPU times: user 44.6 ms, sys: 246 µs, total: 44.8 ms\n",
      "Wall time: 42 ms\n"
     ]
    },
    {
     "data": {
      "image/png": "[encoded data removed]",
      "text/plain": [
       "<Figure size 432x288 with 1 Axes>"
      ]
     },
     "metadata": {
      "needs_background": "light"
     },
     "output_type": "display_data"
    }
   ],
   "source": [
    "def fixed_point(phi, x0, eps, n_max):\n",
    "    print(f\"x0: {x0} tolerance: {eps} max iterations: {n_max}\")\n",
    "    x = phi(x0)\n",
    "    err = eps + 1.\n",
    "    errors = [err]\n",
    "    it = 0\n",
    "    \n",
    "    if verbose:\n",
    "        fxs = [abs(f(x))]\n",
    "    \n",
    "    while err > eps and it < n_max:\n",
    "        x_new = phi(x)\n",
    "        \n",
    "        if err_type == 0:\n",
    "            err = abs(x - x_new)/2\n",
    "        elif err_type == 1:\n",
    "            #cannot predict\n",
    "            err = abs(f(x_new))\n",
    "        else:\n",
    "            #it's the same as the first, but with extra steps?\n",
    "            err = abs(x - x_new)\n",
    "        \n",
    "        errors.append(err)\n",
    "        x = x_new\n",
    "        if verbose:\n",
    "            fxs.append(abs(f(x)))\n",
    "        it += 1\n",
    "    \n",
    "    semilogy(errors)\n",
    "    if verbose:\n",
    "        semilogy(fxs)\n",
    "    print(f\"stopped at iteration: {it}\")\n",
    "    print(f\"x: {x}\")\n",
    "    print(f\"error: {err}\")\n",
    "    return errors\n",
    "\n",
    "%time errors_fixed = fixed_point(phi, 0.3, eps, n_max)\n",
    "        "
   ]
  },
  {
   "cell_type": "markdown",
   "metadata": {},
   "source": [
    "## Comparison"
   ]
  },
  {
   "cell_type": "code",
   "execution_count": 118,
   "metadata": {},
   "outputs": [
    {
     "data": {
      "image/png": "[encoded data removed]",
      "text/plain": [
       "<Figure size 432x288 with 1 Axes>"
      ]
     },
     "metadata": {
      "needs_background": "light"
     },
     "output_type": "display_data"
    }
   ],
   "source": [
    "# plot the error convergence for the methods\n",
    "loglog(errors_bisect, label='bisect')\n",
    "loglog(errors_chord, label='chord')\n",
    "loglog(errors_secant, label='secant')\n",
    "loglog(errors_newton, label ='newton')\n",
    "loglog(errors_fixed, label ='fixed')\n",
    "_ = legend()"
   ]
  },
  {
   "cell_type": "code",
   "execution_count": null,
   "metadata": {},
   "outputs": [],
   "source": [
    "# Let's compare the scipy implmentation of Newton's method with our.."
   ]
  },
  {
   "cell_type": "code",
   "execution_count": 92,
   "metadata": {},
   "outputs": [
    {
     "name": "stdout",
     "output_type": "stream",
     "text": [
      "CPU times: user 2.82 ms, sys: 0 ns, total: 2.82 ms\n",
      "Wall time: 2.85 ms\n"
     ]
    },
    {
     "data": {
      "text/plain": [
       "0.906179845938664"
      ]
     },
     "execution_count": 92,
     "metadata": {},
     "output_type": "execute_result"
    }
   ],
   "source": [
    "import scipy.optimize as opt\n",
    "%time opt.newton(f, 1.0, f_prime, tol = eps)"
   ]
  },
  {
   "cell_type": "code",
   "execution_count": null,
   "metadata": {
    "collapsed": true
   },
   "outputs": [],
   "source": []
  }
 ],
 "metadata": {
  "anaconda-cloud": {},
  "kernelspec": {
   "display_name": "Python 3",
   "language": "python",
   "name": "python3"
  },
  "language_info": {
   "codemirror_mode": {
    "name": "ipython",
    "version": 3
   },
   "file_extension": ".py",
   "mimetype": "text/x-python",
   "name": "python",
   "nbconvert_exporter": "python",
   "pygments_lexer": "ipython3",
   "version": "3.7.9"
  },
  "name": "07_non_linear_equations.ipynb"
 },
 "nbformat": 4,
 "nbformat_minor": 1
}
